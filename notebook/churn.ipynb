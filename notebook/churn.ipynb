{
 "cells": [
  {
   "cell_type": "markdown",
   "metadata": {},
   "source": [
    "# Vodafone Customer Attrition Predictor"
   ]
  },
  {
   "cell_type": "markdown",
   "metadata": {},
   "source": [
    "### `Business Understanding`\n",
    "\n",
    "\n",
    "#### **Problem Statement:** Vodafone is facing a growing challenge with customer attrition. This rising churn rate poses a threat to the company's operational efficiency and future growth. \n",
    "\n",
    "#### **Project Goal:** The aim of the project is to to find the likelihood of a customer leaving the organization, the key indicators of churn as well as the retention strategies that can be implemented to avert this problem.\n",
    "\n",
    "#### **Stakeholders:** \n",
    " - Vodafone\n",
    " - Business Team\n",
    " - Marketing Team\n",
    "\n",
    "\n",
    "#### **Key Metrics and Success Criteria**\n",
    " - The model should have an accuracy score of 85%(on balanced data)\n",
    " - Good models are expected to have an F1 score of > 0.80 or 80%\n",
    " - There should be atleast 4 Baseline models\n",
    " - All hyperparameter tuning should only be applied to baseline models if they exceed their F1 score\n",
    " - An ROC Curver of 80% is ideal for the model to generalize \n",
    "\n",
    "\n",
    "\n",
    "#### **Features**\n",
    "- Gender -- Whether the customer is a male or a female\n",
    "\n",
    "- SeniorCitizen -- Whether a customer is a senior citizen or not\n",
    "\n",
    "- Partner -- Whether the customer has a partner or not (Yes, No)\n",
    "\n",
    "- Dependents -- Whether the customer has dependents or not (Yes, No)\n",
    "\n",
    "- Tenure -- Number of months the customer has stayed with the company\n",
    "\n",
    "- Phone Service -- Whether the customer has a phone service or not (Yes, No)\n",
    "\n",
    "- MultipleLines -- Whether the customer has multiple lines or not\n",
    "\n",
    "- InternetService -- Customer's internet service provider (DSL, Fiber Optic, No)\n",
    "\n",
    "- OnlineSecurity -- Whether the customer has online security or not (Yes, No, No Internet)\n",
    "\n",
    "- OnlineBackup -- Whether the customer has online backup or not (Yes, No, No Internet)\n",
    "\n",
    "- DeviceProtection -- Whether the customer has device protection or not (Yes, No, No internet service)\n",
    "\n",
    "- TechSupport -- Whether the customer has tech support or not (Yes, No, No internet)\n",
    "\n",
    "- StreamingTV -- Whether the customer has streaming TV or not (Yes, No, No internet service)\n",
    "\n",
    "- StreamingMovies -- Whether the customer has streaming movies or not (Yes, No, No Internet service)\n",
    "\n",
    "- Contract -- The contract term of the customer (Month-to-Month, One year, Two year)\n",
    "\n",
    "- PaperlessBilling -- Whether the customer has paperless billing or not (Yes, No)\n",
    "\n",
    "- Payment Method -- The customer's payment method (Electronic check, mailed check, Bank transfer(automatic), Credit card(automatic))\n",
    "\n",
    "- MonthlyCharges -- The amount charged to the customer monthly\n",
    "\n",
    "- TotalCharges -- The total amount charged to the customer\n",
    "\n",
    "- Churn -- Whether the customer churned or not (Yes or No)\n",
    "\n",
    "\n",
    "\n",
    "\n",
    "##### **Null Hypothesis:** There is no statistically significant relationship between customer demographics, service usage patterns, contract details, and the likelihood of customer churn at Vodafone.\n",
    "\n",
    "\n",
    "##### **Alternate Hypothesis:** There is a statistically significant relationship between customer demographics, service usage patterns, contract details, and the likelihood of customer churn at Vodafone.\n",
    "\n",
    "\n",
    "\n",
    "##### **Analytical Questions:**\n",
    "1. Which customer demographics are most strongly associated with churn, and how do factors like age, gender, and senior citizenship status influence churn rates?\n",
    "\n",
    "2. How does the duration of customer tenure influence the likelihood of churn, and is there a specific tenure period during which customers are more likely to leave?\n",
    "\n",
    "3. What is the impact of different service types (e.g., DSL, Fiber Optic, no internet service) on customer churn, and which services are most closely associated with higher churn rates?\n",
    "\n",
    "4. How do contract terms (e.g., month-to-month, one-year, two-year) and billing preferences (e.g., paperless billing) affect customer churn rates?\n",
    "\n",
    "5. What role do additional services (e.g., online security, tech support, streaming TV, streaming movies) play in influencing customer churn, and which of these services are most effective in retaining customers?\n",
    "\n",
    "\n",
    "\n",
    "\n"
   ]
  },
  {
   "cell_type": "markdown",
   "metadata": {},
   "source": [
    "### `DATA UNDERSTANDING`"
   ]
  },
  {
   "cell_type": "markdown",
   "metadata": {},
   "source": [
    "### **Importations**"
   ]
  },
  {
   "cell_type": "code",
   "execution_count": 1,
   "metadata": {},
   "outputs": [],
   "source": [
    "# Data Manipulation packages\n",
    "\n",
    "import pandas as pd\n",
    "import numpy as np\n",
    "import seaborn as sns\n",
    "import matplotlib.pyplot as plt\n",
    "\n",
    "# Data Preparation packages\n",
    "import pyodbc     \n",
    "from dotenv import dotenv_values    #import the dotenv_values function from the dotenv package\n",
    "from sklearn.model_selection import train_test_split, GridSearchCV\n",
    "from sklearn.preprocessing import OneHotEncoder, StandardScaler\n",
    "from sklearn.ensemble import RandomForestClassifier\n",
    "from sklearn.metrics import accuracy_score, confusion_matrix, classification_report\n",
    "import warnings \n",
    "\n",
    "warnings.filterwarnings('ignore')"
   ]
  },
  {
   "cell_type": "markdown",
   "metadata": {},
   "source": [
    "### **Importation to Connect to Server**"
   ]
  },
  {
   "cell_type": "code",
   "execution_count": 2,
   "metadata": {},
   "outputs": [],
   "source": [
    "import pyodbc     \n",
    "from dotenv import dotenv_values    #import the dotenv_values function from the dotenv package\n",
    "import warnings \n",
    "\n",
    "warnings.filterwarnings('ignore')"
   ]
  },
  {
   "cell_type": "markdown",
   "metadata": {},
   "source": [
    "### **Load Dataset**"
   ]
  },
  {
   "cell_type": "code",
   "execution_count": 3,
   "metadata": {},
   "outputs": [],
   "source": [
    "# Connecting to the Dataset\n",
    "df = pd.read_csv('..\\\\data\\\\LP2_Telco-churn-second-2000.csv')\n",
    "df.head()\n",
    "\n",
    "\n",
    "#Connecting to Database\n",
    "#environment_variables = dotenv_values('.env')\n",
    "\n",
    "# Get the values for the credentials you set in the '.env' file\n",
    "#server = environment_variables.get('server')\n",
    "#database = environment_variables.get('database')\n",
    "#username = environment_variables.get('username')\n",
    "#password = environment_variables.get('password')\n",
    "\n",
    "\n",
    "\n",
    "# Load environment variables from .env file into a dictionary\n",
    "environment_variables = dotenv_values('.env')\n",
    "\n",
    "# Get the values for the credentials you set in the '.env' file\n",
    "server = environment_variables.get(\"server\")\n",
    "database = environment_variables.get(\"database\")\n",
    "username = environment_variables.get(\"username\")\n",
    "password = environment_variables.get(\"password\")"
   ]
  },
  {
   "cell_type": "code",
   "execution_count": 4,
   "metadata": {},
   "outputs": [],
   "source": [
    "# Create a connection string\n",
    "#connection_string = (\n",
    "    #f\"DRIVER={{ODBC Driver 17 for SQL Server}};\"\n",
    "    #f\"SERVER={server};\"\n",
    "    #f\"DATABASE={database};\"\n",
    "    #f\"UID={username};\"\n",
    "    #f\"PWD={password};\"\n",
    "    #f\"MARS_Connection=yes;\"\n",
    "    #f\"MinProtocolVersion=TLSv1.2;\"\n",
    "#)\n",
    "\n",
    "\n",
    "# Create a connection string\n",
    "connection_string = f\"DRIVER={{SQL Server}};SERVER={server};DATABASE={database};UID={username};PWD={password};MARS_Connection=yes;MinProtocolVersion=TLSv1.2;\""
   ]
  },
  {
   "cell_type": "code",
   "execution_count": 5,
   "metadata": {},
   "outputs": [],
   "source": [
    "# Establish the connection\n",
    "connection = pyodbc.connect(connection_string)\n",
    "    "
   ]
  },
  {
   "cell_type": "markdown",
   "metadata": {},
   "source": [
    "#### Key Insights\n"
   ]
  },
  {
   "cell_type": "markdown",
   "metadata": {},
   "source": []
  }
 ],
 "metadata": {
  "kernelspec": {
   "display_name": "virtual",
   "language": "python",
   "name": "python3"
  },
  "language_info": {
   "codemirror_mode": {
    "name": "ipython",
    "version": 3
   },
   "file_extension": ".py",
   "mimetype": "text/x-python",
   "name": "python",
   "nbconvert_exporter": "python",
   "pygments_lexer": "ipython3",
   "version": "3.12.3"
  }
 },
 "nbformat": 4,
 "nbformat_minor": 2
}
